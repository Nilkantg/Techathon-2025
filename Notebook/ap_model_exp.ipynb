{
 "cells": [
  {
   "cell_type": "code",
   "execution_count": 1,
   "metadata": {
    "id": "KunifMbOP7E-"
   },
   "outputs": [],
   "source": [
    "import pandas as pd\n",
    "import numpy as np\n",
    "import matplotlib.pyplot as plt\n",
    "import seaborn as sns\n",
    "\n",
    "from sklearn.model_selection import train_test_split\n",
    "from sklearn.preprocessing import StandardScaler, LabelEncoder\n",
    "from sklearn.metrics import accuracy_score\n",
    "\n",
    "import torch\n",
    "import torch.nn as nn\n",
    "import torch.nn.functional as F\n",
    "from torch.utils.data import DataLoader, TensorDataset\n",
    "\n",
    "import warnings\n",
    "warnings.filterwarnings(\"ignore\")"
   ]
  },
  {
   "cell_type": "code",
   "execution_count": 2,
   "metadata": {
    "colab": {
     "base_uri": "https://localhost:8080/"
    },
    "id": "awKrh_seCgEp",
    "outputId": "94444be4-c67f-42df-8851-3a2a667a9eb9"
   },
   "outputs": [
    {
     "name": "stdout",
     "output_type": "stream",
     "text": [
      "cpu\n"
     ]
    }
   ],
   "source": [
    "if torch.cuda.is_available():\n",
    "  device = torch.device(\"cuda\")\n",
    "else:\n",
    "  device = torch.device(\"cpu\")\n",
    "\n",
    "print(device)"
   ]
  },
  {
   "cell_type": "code",
   "execution_count": 3,
   "metadata": {
    "id": "hBNyiYM8nfU9"
   },
   "outputs": [],
   "source": [
    "pd.set_option('display.max_rows', None)"
   ]
  },
  {
   "cell_type": "code",
   "execution_count": 4,
   "metadata": {
    "id": "UPQ0S6bTQcps"
   },
   "outputs": [],
   "source": [
    "df = pd.read_csv(\"1966-2016.csv\")"
   ]
  },
  {
   "cell_type": "code",
   "execution_count": 5,
   "metadata": {
    "colab": {
     "base_uri": "https://localhost:8080/",
     "height": 345
    },
    "id": "m6IuotH5P8hm",
    "outputId": "915e4689-641b-48eb-97ac-e30311cdef6e"
   },
   "outputs": [
    {
     "data": {
      "text/html": [
       "<div>\n",
       "<style scoped>\n",
       "    .dataframe tbody tr th:only-of-type {\n",
       "        vertical-align: middle;\n",
       "    }\n",
       "\n",
       "    .dataframe tbody tr th {\n",
       "        vertical-align: top;\n",
       "    }\n",
       "\n",
       "    .dataframe thead th {\n",
       "        text-align: right;\n",
       "    }\n",
       "</style>\n",
       "<table border=\"1\" class=\"dataframe\">\n",
       "  <thead>\n",
       "    <tr style=\"text-align: right;\">\n",
       "      <th></th>\n",
       "      <th>Dist Code</th>\n",
       "      <th>Year</th>\n",
       "      <th>State Code</th>\n",
       "      <th>State Name</th>\n",
       "      <th>Dist Name</th>\n",
       "      <th>PADDY HARVEST PRICE (Rs per Quintal)</th>\n",
       "      <th>WHEAT HARVEST PRICE (Rs per Quintal)</th>\n",
       "      <th>MAIZE HARVEST PRICE (Rs per Quintal)</th>\n",
       "      <th>GROUNDNUT HARVEST PRICE (Rs per Quintal)</th>\n",
       "    </tr>\n",
       "  </thead>\n",
       "  <tbody>\n",
       "    <tr>\n",
       "      <th>0</th>\n",
       "      <td>7</td>\n",
       "      <td>1966</td>\n",
       "      <td>6</td>\n",
       "      <td>Madhya Pradesh</td>\n",
       "      <td>Jabalpur</td>\n",
       "      <td>-1.0</td>\n",
       "      <td>-1.0</td>\n",
       "      <td>85.4</td>\n",
       "      <td>-1.0</td>\n",
       "    </tr>\n",
       "    <tr>\n",
       "      <th>1</th>\n",
       "      <td>7</td>\n",
       "      <td>1967</td>\n",
       "      <td>6</td>\n",
       "      <td>Madhya Pradesh</td>\n",
       "      <td>Jabalpur</td>\n",
       "      <td>-1.0</td>\n",
       "      <td>93.8</td>\n",
       "      <td>78.3</td>\n",
       "      <td>-1.0</td>\n",
       "    </tr>\n",
       "    <tr>\n",
       "      <th>2</th>\n",
       "      <td>7</td>\n",
       "      <td>1968</td>\n",
       "      <td>6</td>\n",
       "      <td>Madhya Pradesh</td>\n",
       "      <td>Jabalpur</td>\n",
       "      <td>-1.0</td>\n",
       "      <td>84.2</td>\n",
       "      <td>56.4</td>\n",
       "      <td>-1.0</td>\n",
       "    </tr>\n",
       "    <tr>\n",
       "      <th>3</th>\n",
       "      <td>7</td>\n",
       "      <td>1969</td>\n",
       "      <td>6</td>\n",
       "      <td>Madhya Pradesh</td>\n",
       "      <td>Jabalpur</td>\n",
       "      <td>-1.0</td>\n",
       "      <td>91.5</td>\n",
       "      <td>78.0</td>\n",
       "      <td>-1.0</td>\n",
       "    </tr>\n",
       "    <tr>\n",
       "      <th>4</th>\n",
       "      <td>7</td>\n",
       "      <td>1970</td>\n",
       "      <td>6</td>\n",
       "      <td>Madhya Pradesh</td>\n",
       "      <td>Jabalpur</td>\n",
       "      <td>-1.0</td>\n",
       "      <td>77.7</td>\n",
       "      <td>43.7</td>\n",
       "      <td>-1.0</td>\n",
       "    </tr>\n",
       "  </tbody>\n",
       "</table>\n",
       "</div>"
      ],
      "text/plain": [
       "   Dist Code  Year  State Code      State Name Dist Name  \\\n",
       "0          7  1966           6  Madhya Pradesh  Jabalpur   \n",
       "1          7  1967           6  Madhya Pradesh  Jabalpur   \n",
       "2          7  1968           6  Madhya Pradesh  Jabalpur   \n",
       "3          7  1969           6  Madhya Pradesh  Jabalpur   \n",
       "4          7  1970           6  Madhya Pradesh  Jabalpur   \n",
       "\n",
       "   PADDY HARVEST PRICE (Rs per Quintal)  WHEAT HARVEST PRICE (Rs per Quintal)  \\\n",
       "0                                  -1.0                                  -1.0   \n",
       "1                                  -1.0                                  93.8   \n",
       "2                                  -1.0                                  84.2   \n",
       "3                                  -1.0                                  91.5   \n",
       "4                                  -1.0                                  77.7   \n",
       "\n",
       "   MAIZE HARVEST PRICE (Rs per Quintal)  \\\n",
       "0                                  85.4   \n",
       "1                                  78.3   \n",
       "2                                  56.4   \n",
       "3                                  78.0   \n",
       "4                                  43.7   \n",
       "\n",
       "   GROUNDNUT HARVEST PRICE (Rs per Quintal)  \n",
       "0                                      -1.0  \n",
       "1                                      -1.0  \n",
       "2                                      -1.0  \n",
       "3                                      -1.0  \n",
       "4                                      -1.0  "
      ]
     },
     "execution_count": 5,
     "metadata": {},
     "output_type": "execute_result"
    }
   ],
   "source": [
    "df.head()"
   ]
  },
  {
   "cell_type": "code",
   "execution_count": 6,
   "metadata": {
    "colab": {
     "base_uri": "https://localhost:8080/",
     "height": 366
    },
    "id": "z2QvOnyGP8jn",
    "outputId": "588dec3d-76c9-4de9-a034-d68aaf3725c3"
   },
   "outputs": [
    {
     "data": {
      "text/plain": [
       "Dist Code                                   0.0\n",
       "Year                                        0.0\n",
       "State Code                                  0.0\n",
       "State Name                                  0.0\n",
       "Dist Name                                   0.0\n",
       "PADDY HARVEST PRICE (Rs per Quintal)        0.0\n",
       "WHEAT HARVEST PRICE (Rs per Quintal)        0.0\n",
       "MAIZE HARVEST PRICE (Rs per Quintal)        0.0\n",
       "GROUNDNUT HARVEST PRICE (Rs per Quintal)    0.0\n",
       "dtype: float64"
      ]
     },
     "execution_count": 6,
     "metadata": {},
     "output_type": "execute_result"
    }
   ],
   "source": [
    "df.isna().sum() / df.shape[0]"
   ]
  },
  {
   "cell_type": "code",
   "execution_count": 7,
   "metadata": {
    "id": "mDD7aNw2sDke"
   },
   "outputs": [],
   "source": [
    "df.drop([\"State Code\", \"Dist Code\", \"Dist Name\"], axis=1, inplace=True)"
   ]
  },
  {
   "cell_type": "code",
   "execution_count": 8,
   "metadata": {
    "id": "AcBHE2jiP8l8"
   },
   "outputs": [],
   "source": [
    "df.replace(-1, np.nan, inplace=True)"
   ]
  },
  {
   "cell_type": "code",
   "execution_count": 9,
   "metadata": {
    "colab": {
     "base_uri": "https://localhost:8080/",
     "height": 272
    },
    "id": "ZD_JFUkuP8of",
    "outputId": "3b28662e-ea4c-41d2-c9dd-f952de944e12"
   },
   "outputs": [
    {
     "data": {
      "text/plain": [
       "Year                                        0.000000\n",
       "State Name                                  0.000000\n",
       "PADDY HARVEST PRICE (Rs per Quintal)        0.534820\n",
       "WHEAT HARVEST PRICE (Rs per Quintal)        0.260253\n",
       "MAIZE HARVEST PRICE (Rs per Quintal)        0.405037\n",
       "GROUNDNUT HARVEST PRICE (Rs per Quintal)    0.448665\n",
       "dtype: float64"
      ]
     },
     "execution_count": 9,
     "metadata": {},
     "output_type": "execute_result"
    }
   ],
   "source": [
    "df.isna().sum() / df.shape[0]"
   ]
  },
  {
   "cell_type": "code",
   "execution_count": 10,
   "metadata": {
    "colab": {
     "base_uri": "https://localhost:8080/"
    },
    "id": "ZxoD0rMSW9qo",
    "outputId": "16f3e368-bc19-4758-db5f-9d544b04d94c"
   },
   "outputs": [
    {
     "name": "stdout",
     "output_type": "stream",
     "text": [
      "<class 'pandas.core.frame.DataFrame'>\n",
      "RangeIndex: 7266 entries, 0 to 7265\n",
      "Data columns (total 6 columns):\n",
      " #   Column                                    Non-Null Count  Dtype  \n",
      "---  ------                                    --------------  -----  \n",
      " 0   Year                                      7266 non-null   int64  \n",
      " 1   State Name                                7266 non-null   object \n",
      " 2   PADDY HARVEST PRICE (Rs per Quintal)      3380 non-null   float64\n",
      " 3   WHEAT HARVEST PRICE (Rs per Quintal)      5375 non-null   float64\n",
      " 4   MAIZE HARVEST PRICE (Rs per Quintal)      4323 non-null   float64\n",
      " 5   GROUNDNUT HARVEST PRICE (Rs per Quintal)  4006 non-null   float64\n",
      "dtypes: float64(4), int64(1), object(1)\n",
      "memory usage: 340.7+ KB\n"
     ]
    }
   ],
   "source": [
    "df.info()"
   ]
  },
  {
   "cell_type": "code",
   "execution_count": 11,
   "metadata": {
    "colab": {
     "base_uri": "https://localhost:8080/"
    },
    "id": "Fdg-V7yxW9s7",
    "outputId": "1a58d36e-078d-4943-f65d-57b57b1820b5"
   },
   "outputs": [
    {
     "data": {
      "text/plain": [
       "array(['Madhya Pradesh', 'Andhra Pradesh', 'Maharashtra', 'Rajasthan',\n",
       "       'Uttar Pradesh'], dtype=object)"
      ]
     },
     "execution_count": 11,
     "metadata": {},
     "output_type": "execute_result"
    }
   ],
   "source": [
    "df[\"State Name\"].unique()"
   ]
  },
  {
   "cell_type": "code",
   "execution_count": 12,
   "metadata": {
    "id": "ZM2yn02OW9u5"
   },
   "outputs": [],
   "source": [
    "up_df = df[df[\"State Name\"] == \"Uttar Pradesh\"]\n",
    "ap_df = df[df[\"State Name\"] == \"Andhra Pradesh\"]\n",
    "mh_df = df[df[\"State Name\"] == \"Maharashtra\"]\n",
    "raj_df = df[df[\"State Name\"] == \"Rajasthan\"]\n",
    "mp_df = df[df[\"State Name\"] == \"Madhya Pradesh\"]\n",
    "\n",
    "## I will remove UP as there are very high missing values"
   ]
  },
  {
   "cell_type": "code",
   "execution_count": 13,
   "metadata": {
    "colab": {
     "base_uri": "https://localhost:8080/",
     "height": 327
    },
    "id": "z2ztS1sRW9xE",
    "outputId": "1c5fcf68-18c0-493c-f4f4-99e3814126f5"
   },
   "outputs": [
    {
     "data": {
      "text/html": [
       "<div>\n",
       "<style scoped>\n",
       "    .dataframe tbody tr th:only-of-type {\n",
       "        vertical-align: middle;\n",
       "    }\n",
       "\n",
       "    .dataframe tbody tr th {\n",
       "        vertical-align: top;\n",
       "    }\n",
       "\n",
       "    .dataframe thead th {\n",
       "        text-align: right;\n",
       "    }\n",
       "</style>\n",
       "<table border=\"1\" class=\"dataframe\">\n",
       "  <thead>\n",
       "    <tr style=\"text-align: right;\">\n",
       "      <th></th>\n",
       "      <th>Year</th>\n",
       "      <th>State Name</th>\n",
       "      <th>PADDY HARVEST PRICE (Rs per Quintal)</th>\n",
       "      <th>WHEAT HARVEST PRICE (Rs per Quintal)</th>\n",
       "      <th>MAIZE HARVEST PRICE (Rs per Quintal)</th>\n",
       "      <th>GROUNDNUT HARVEST PRICE (Rs per Quintal)</th>\n",
       "    </tr>\n",
       "  </thead>\n",
       "  <tbody>\n",
       "    <tr>\n",
       "      <th>1857</th>\n",
       "      <td>1966</td>\n",
       "      <td>Andhra Pradesh</td>\n",
       "      <td>47.6</td>\n",
       "      <td>NaN</td>\n",
       "      <td>NaN</td>\n",
       "      <td>98.7</td>\n",
       "    </tr>\n",
       "    <tr>\n",
       "      <th>1858</th>\n",
       "      <td>1967</td>\n",
       "      <td>Andhra Pradesh</td>\n",
       "      <td>57.7</td>\n",
       "      <td>102.4</td>\n",
       "      <td>NaN</td>\n",
       "      <td>73.9</td>\n",
       "    </tr>\n",
       "    <tr>\n",
       "      <th>1859</th>\n",
       "      <td>1968</td>\n",
       "      <td>Andhra Pradesh</td>\n",
       "      <td>62.7</td>\n",
       "      <td>90.0</td>\n",
       "      <td>NaN</td>\n",
       "      <td>91.8</td>\n",
       "    </tr>\n",
       "    <tr>\n",
       "      <th>1860</th>\n",
       "      <td>1969</td>\n",
       "      <td>Andhra Pradesh</td>\n",
       "      <td>55.6</td>\n",
       "      <td>NaN</td>\n",
       "      <td>NaN</td>\n",
       "      <td>104.5</td>\n",
       "    </tr>\n",
       "    <tr>\n",
       "      <th>1861</th>\n",
       "      <td>1970</td>\n",
       "      <td>Andhra Pradesh</td>\n",
       "      <td>53.8</td>\n",
       "      <td>NaN</td>\n",
       "      <td>NaN</td>\n",
       "      <td>106.7</td>\n",
       "    </tr>\n",
       "  </tbody>\n",
       "</table>\n",
       "</div>"
      ],
      "text/plain": [
       "      Year      State Name  PADDY HARVEST PRICE (Rs per Quintal)  \\\n",
       "1857  1966  Andhra Pradesh                                  47.6   \n",
       "1858  1967  Andhra Pradesh                                  57.7   \n",
       "1859  1968  Andhra Pradesh                                  62.7   \n",
       "1860  1969  Andhra Pradesh                                  55.6   \n",
       "1861  1970  Andhra Pradesh                                  53.8   \n",
       "\n",
       "      WHEAT HARVEST PRICE (Rs per Quintal)  \\\n",
       "1857                                   NaN   \n",
       "1858                                 102.4   \n",
       "1859                                  90.0   \n",
       "1860                                   NaN   \n",
       "1861                                   NaN   \n",
       "\n",
       "      MAIZE HARVEST PRICE (Rs per Quintal)  \\\n",
       "1857                                   NaN   \n",
       "1858                                   NaN   \n",
       "1859                                   NaN   \n",
       "1860                                   NaN   \n",
       "1861                                   NaN   \n",
       "\n",
       "      GROUNDNUT HARVEST PRICE (Rs per Quintal)  \n",
       "1857                                      98.7  \n",
       "1858                                      73.9  \n",
       "1859                                      91.8  \n",
       "1860                                     104.5  \n",
       "1861                                     106.7  "
      ]
     },
     "execution_count": 13,
     "metadata": {},
     "output_type": "execute_result"
    }
   ],
   "source": [
    "ap_df.head()"
   ]
  },
  {
   "cell_type": "code",
   "execution_count": 14,
   "metadata": {
    "colab": {
     "base_uri": "https://localhost:8080/",
     "height": 272
    },
    "id": "uqUmrkCGW9zV",
    "outputId": "8c1339e2-99f2-45ce-8d28-9ba0f5f726bd"
   },
   "outputs": [
    {
     "data": {
      "text/plain": [
       "Year                                        0.000000\n",
       "State Name                                  0.000000\n",
       "PADDY HARVEST PRICE (Rs per Quintal)        0.002246\n",
       "WHEAT HARVEST PRICE (Rs per Quintal)        0.243486\n",
       "MAIZE HARVEST PRICE (Rs per Quintal)        0.147350\n",
       "GROUNDNUT HARVEST PRICE (Rs per Quintal)    0.026505\n",
       "dtype: float64"
      ]
     },
     "execution_count": 14,
     "metadata": {},
     "output_type": "execute_result"
    }
   ],
   "source": [
    "ap_df.isna().sum() / up_df.shape[0]\n",
    "\n",
    "## Will take all the crops"
   ]
  },
  {
   "cell_type": "code",
   "execution_count": 15,
   "metadata": {
    "colab": {
     "base_uri": "https://localhost:8080/",
     "height": 327
    },
    "id": "t6g29ithd8zf",
    "outputId": "fe424933-6e7f-4e40-e277-cd4725a824d1"
   },
   "outputs": [
    {
     "data": {
      "text/html": [
       "<div>\n",
       "<style scoped>\n",
       "    .dataframe tbody tr th:only-of-type {\n",
       "        vertical-align: middle;\n",
       "    }\n",
       "\n",
       "    .dataframe tbody tr th {\n",
       "        vertical-align: top;\n",
       "    }\n",
       "\n",
       "    .dataframe thead th {\n",
       "        text-align: right;\n",
       "    }\n",
       "</style>\n",
       "<table border=\"1\" class=\"dataframe\">\n",
       "  <thead>\n",
       "    <tr style=\"text-align: right;\">\n",
       "      <th></th>\n",
       "      <th>Year</th>\n",
       "      <th>State Name</th>\n",
       "      <th>PADDY HARVEST PRICE (Rs per Quintal)</th>\n",
       "      <th>WHEAT HARVEST PRICE (Rs per Quintal)</th>\n",
       "      <th>MAIZE HARVEST PRICE (Rs per Quintal)</th>\n",
       "      <th>GROUNDNUT HARVEST PRICE (Rs per Quintal)</th>\n",
       "    </tr>\n",
       "  </thead>\n",
       "  <tbody>\n",
       "    <tr>\n",
       "      <th>1857</th>\n",
       "      <td>1966</td>\n",
       "      <td>Andhra Pradesh</td>\n",
       "      <td>47.6</td>\n",
       "      <td>NaN</td>\n",
       "      <td>NaN</td>\n",
       "      <td>98.7</td>\n",
       "    </tr>\n",
       "    <tr>\n",
       "      <th>1858</th>\n",
       "      <td>1967</td>\n",
       "      <td>Andhra Pradesh</td>\n",
       "      <td>57.7</td>\n",
       "      <td>102.4</td>\n",
       "      <td>NaN</td>\n",
       "      <td>73.9</td>\n",
       "    </tr>\n",
       "    <tr>\n",
       "      <th>1859</th>\n",
       "      <td>1968</td>\n",
       "      <td>Andhra Pradesh</td>\n",
       "      <td>62.7</td>\n",
       "      <td>90.0</td>\n",
       "      <td>NaN</td>\n",
       "      <td>91.8</td>\n",
       "    </tr>\n",
       "    <tr>\n",
       "      <th>1860</th>\n",
       "      <td>1969</td>\n",
       "      <td>Andhra Pradesh</td>\n",
       "      <td>55.6</td>\n",
       "      <td>NaN</td>\n",
       "      <td>NaN</td>\n",
       "      <td>104.5</td>\n",
       "    </tr>\n",
       "    <tr>\n",
       "      <th>1861</th>\n",
       "      <td>1970</td>\n",
       "      <td>Andhra Pradesh</td>\n",
       "      <td>53.8</td>\n",
       "      <td>NaN</td>\n",
       "      <td>NaN</td>\n",
       "      <td>106.7</td>\n",
       "    </tr>\n",
       "  </tbody>\n",
       "</table>\n",
       "</div>"
      ],
      "text/plain": [
       "      Year      State Name  PADDY HARVEST PRICE (Rs per Quintal)  \\\n",
       "1857  1966  Andhra Pradesh                                  47.6   \n",
       "1858  1967  Andhra Pradesh                                  57.7   \n",
       "1859  1968  Andhra Pradesh                                  62.7   \n",
       "1860  1969  Andhra Pradesh                                  55.6   \n",
       "1861  1970  Andhra Pradesh                                  53.8   \n",
       "\n",
       "      WHEAT HARVEST PRICE (Rs per Quintal)  \\\n",
       "1857                                   NaN   \n",
       "1858                                 102.4   \n",
       "1859                                  90.0   \n",
       "1860                                   NaN   \n",
       "1861                                   NaN   \n",
       "\n",
       "      MAIZE HARVEST PRICE (Rs per Quintal)  \\\n",
       "1857                                   NaN   \n",
       "1858                                   NaN   \n",
       "1859                                   NaN   \n",
       "1860                                   NaN   \n",
       "1861                                   NaN   \n",
       "\n",
       "      GROUNDNUT HARVEST PRICE (Rs per Quintal)  \n",
       "1857                                      98.7  \n",
       "1858                                      73.9  \n",
       "1859                                      91.8  \n",
       "1860                                     104.5  \n",
       "1861                                     106.7  "
      ]
     },
     "execution_count": 15,
     "metadata": {},
     "output_type": "execute_result"
    }
   ],
   "source": [
    "ap_df.head()"
   ]
  },
  {
   "cell_type": "code",
   "execution_count": 16,
   "metadata": {
    "colab": {
     "base_uri": "https://localhost:8080/"
    },
    "id": "9zGDZxscd83H",
    "outputId": "83d1c947-7d99-4d43-a236-9831da4506bb"
   },
   "outputs": [
    {
     "data": {
      "text/plain": [
       "(561, 6)"
      ]
     },
     "execution_count": 16,
     "metadata": {},
     "output_type": "execute_result"
    }
   ],
   "source": [
    "ap_df.shape"
   ]
  },
  {
   "cell_type": "code",
   "execution_count": 17,
   "metadata": {
    "colab": {
     "base_uri": "https://localhost:8080/",
     "height": 272
    },
    "id": "vF34rYotW91r",
    "outputId": "e171d41b-f12c-43cf-c78d-cb075b9528b4"
   },
   "outputs": [
    {
     "data": {
      "text/plain": [
       "Year                                        0.000000\n",
       "State Name                                  0.000000\n",
       "PADDY HARVEST PRICE (Rs per Quintal)        0.631177\n",
       "WHEAT HARVEST PRICE (Rs per Quintal)        0.072327\n",
       "MAIZE HARVEST PRICE (Rs per Quintal)        0.265049\n",
       "GROUNDNUT HARVEST PRICE (Rs per Quintal)    0.440252\n",
       "dtype: float64"
      ]
     },
     "execution_count": 17,
     "metadata": {},
     "output_type": "execute_result"
    }
   ],
   "source": [
    "mp_df.isna().sum() / up_df.shape[0]\n",
    "\n",
    "## I will take only Wheat and Maize"
   ]
  },
  {
   "cell_type": "code",
   "execution_count": 18,
   "metadata": {
    "colab": {
     "base_uri": "https://localhost:8080/",
     "height": 272
    },
    "id": "OrqlDXOHW95O",
    "outputId": "94768d00-de97-4f81-958d-90880984efc3"
   },
   "outputs": [
    {
     "data": {
      "text/plain": [
       "Year                                        0.000000\n",
       "State Name                                  0.000000\n",
       "PADDY HARVEST PRICE (Rs per Quintal)        0.464510\n",
       "WHEAT HARVEST PRICE (Rs per Quintal)        0.021563\n",
       "MAIZE HARVEST PRICE (Rs per Quintal)        0.133872\n",
       "GROUNDNUT HARVEST PRICE (Rs per Quintal)    0.119048\n",
       "dtype: float64"
      ]
     },
     "execution_count": 18,
     "metadata": {},
     "output_type": "execute_result"
    }
   ],
   "source": [
    "raj_df.isna().sum() / up_df.shape[0]\n",
    "\n",
    "## Will take Wheat, Maize and Groundnut"
   ]
  },
  {
   "cell_type": "code",
   "execution_count": 19,
   "metadata": {
    "id": "T9OX7R9hoWbF"
   },
   "outputs": [],
   "source": [
    "cleaned_ap_df = ap_df.copy()  # Create a copy to avoid modifying the original dataframe\n",
    "\n",
    "cleaned_ap_df[[\"PADDY HARVEST PRICE (Rs per Quintal)\",\n",
    "               \"WHEAT HARVEST PRICE (Rs per Quintal)\",\n",
    "               \"MAIZE HARVEST PRICE (Rs per Quintal)\",\n",
    "               \"GROUNDNUT HARVEST PRICE (Rs per Quintal)\"]] = cleaned_ap_df[\n",
    "                   [\"PADDY HARVEST PRICE (Rs per Quintal)\",\n",
    "                    \"WHEAT HARVEST PRICE (Rs per Quintal)\",\n",
    "                    \"MAIZE HARVEST PRICE (Rs per Quintal)\",\n",
    "                    \"GROUNDNUT HARVEST PRICE (Rs per Quintal)\"]\n",
    "               ].bfill()"
   ]
  },
  {
   "cell_type": "code",
   "execution_count": 20,
   "metadata": {
    "colab": {
     "base_uri": "https://localhost:8080/",
     "height": 272
    },
    "id": "n2zyE5PGpUye",
    "outputId": "f7e6d0ef-8ed4-4ef1-eb08-8638acbba26d"
   },
   "outputs": [
    {
     "data": {
      "text/plain": [
       "Year                                         0\n",
       "State Name                                   0\n",
       "PADDY HARVEST PRICE (Rs per Quintal)         0\n",
       "WHEAT HARVEST PRICE (Rs per Quintal)        16\n",
       "MAIZE HARVEST PRICE (Rs per Quintal)         0\n",
       "GROUNDNUT HARVEST PRICE (Rs per Quintal)     0\n",
       "dtype: int64"
      ]
     },
     "execution_count": 20,
     "metadata": {},
     "output_type": "execute_result"
    }
   ],
   "source": [
    "cleaned_ap_df.isna().sum()"
   ]
  },
  {
   "cell_type": "code",
   "execution_count": 21,
   "metadata": {
    "colab": {
     "base_uri": "https://localhost:8080/",
     "height": 863
    },
    "id": "xNGh-yrpgqkY",
    "outputId": "596fedb5-7792-4356-902e-d3803cc622b1"
   },
   "outputs": [
    {
     "data": {
      "text/html": [
       "<div>\n",
       "<style scoped>\n",
       "    .dataframe tbody tr th:only-of-type {\n",
       "        vertical-align: middle;\n",
       "    }\n",
       "\n",
       "    .dataframe tbody tr th {\n",
       "        vertical-align: top;\n",
       "    }\n",
       "\n",
       "    .dataframe thead th {\n",
       "        text-align: right;\n",
       "    }\n",
       "</style>\n",
       "<table border=\"1\" class=\"dataframe\">\n",
       "  <thead>\n",
       "    <tr style=\"text-align: right;\">\n",
       "      <th></th>\n",
       "      <th>Year</th>\n",
       "      <th>State Name</th>\n",
       "      <th>PADDY HARVEST PRICE (Rs per Quintal)</th>\n",
       "      <th>WHEAT HARVEST PRICE (Rs per Quintal)</th>\n",
       "      <th>MAIZE HARVEST PRICE (Rs per Quintal)</th>\n",
       "      <th>GROUNDNUT HARVEST PRICE (Rs per Quintal)</th>\n",
       "    </tr>\n",
       "  </thead>\n",
       "  <tbody>\n",
       "    <tr>\n",
       "      <th>2402</th>\n",
       "      <td>2001</td>\n",
       "      <td>Andhra Pradesh</td>\n",
       "      <td>603.0</td>\n",
       "      <td>NaN</td>\n",
       "      <td>499.0</td>\n",
       "      <td>1343.0</td>\n",
       "    </tr>\n",
       "    <tr>\n",
       "      <th>2403</th>\n",
       "      <td>2002</td>\n",
       "      <td>Andhra Pradesh</td>\n",
       "      <td>635.0</td>\n",
       "      <td>NaN</td>\n",
       "      <td>513.0</td>\n",
       "      <td>1683.0</td>\n",
       "    </tr>\n",
       "    <tr>\n",
       "      <th>2404</th>\n",
       "      <td>2003</td>\n",
       "      <td>Andhra Pradesh</td>\n",
       "      <td>630.0</td>\n",
       "      <td>NaN</td>\n",
       "      <td>506.0</td>\n",
       "      <td>1467.0</td>\n",
       "    </tr>\n",
       "    <tr>\n",
       "      <th>2405</th>\n",
       "      <td>2004</td>\n",
       "      <td>Andhra Pradesh</td>\n",
       "      <td>586.0</td>\n",
       "      <td>NaN</td>\n",
       "      <td>495.0</td>\n",
       "      <td>1580.0</td>\n",
       "    </tr>\n",
       "    <tr>\n",
       "      <th>2406</th>\n",
       "      <td>2005</td>\n",
       "      <td>Andhra Pradesh</td>\n",
       "      <td>624.0</td>\n",
       "      <td>NaN</td>\n",
       "      <td>500.0</td>\n",
       "      <td>1411.0</td>\n",
       "    </tr>\n",
       "    <tr>\n",
       "      <th>2407</th>\n",
       "      <td>2006</td>\n",
       "      <td>Andhra Pradesh</td>\n",
       "      <td>707.0</td>\n",
       "      <td>NaN</td>\n",
       "      <td>598.0</td>\n",
       "      <td>2023.0</td>\n",
       "    </tr>\n",
       "    <tr>\n",
       "      <th>2408</th>\n",
       "      <td>2007</td>\n",
       "      <td>Andhra Pradesh</td>\n",
       "      <td>698.0</td>\n",
       "      <td>NaN</td>\n",
       "      <td>638.0</td>\n",
       "      <td>2314.0</td>\n",
       "    </tr>\n",
       "    <tr>\n",
       "      <th>2409</th>\n",
       "      <td>2008</td>\n",
       "      <td>Andhra Pradesh</td>\n",
       "      <td>874.0</td>\n",
       "      <td>NaN</td>\n",
       "      <td>817.0</td>\n",
       "      <td>2311.0</td>\n",
       "    </tr>\n",
       "    <tr>\n",
       "      <th>2410</th>\n",
       "      <td>2009</td>\n",
       "      <td>Andhra Pradesh</td>\n",
       "      <td>1060.0</td>\n",
       "      <td>NaN</td>\n",
       "      <td>879.0</td>\n",
       "      <td>2655.0</td>\n",
       "    </tr>\n",
       "    <tr>\n",
       "      <th>2411</th>\n",
       "      <td>2010</td>\n",
       "      <td>Andhra Pradesh</td>\n",
       "      <td>992.0</td>\n",
       "      <td>NaN</td>\n",
       "      <td>950.0</td>\n",
       "      <td>2670.0</td>\n",
       "    </tr>\n",
       "    <tr>\n",
       "      <th>2412</th>\n",
       "      <td>2011</td>\n",
       "      <td>Andhra Pradesh</td>\n",
       "      <td>945.0</td>\n",
       "      <td>NaN</td>\n",
       "      <td>1062.0</td>\n",
       "      <td>3542.0</td>\n",
       "    </tr>\n",
       "    <tr>\n",
       "      <th>2413</th>\n",
       "      <td>2012</td>\n",
       "      <td>Andhra Pradesh</td>\n",
       "      <td>1352.0</td>\n",
       "      <td>NaN</td>\n",
       "      <td>1327.0</td>\n",
       "      <td>4213.0</td>\n",
       "    </tr>\n",
       "    <tr>\n",
       "      <th>2414</th>\n",
       "      <td>2013</td>\n",
       "      <td>Andhra Pradesh</td>\n",
       "      <td>1300.0</td>\n",
       "      <td>NaN</td>\n",
       "      <td>1101.0</td>\n",
       "      <td>3778.0</td>\n",
       "    </tr>\n",
       "    <tr>\n",
       "      <th>2415</th>\n",
       "      <td>2014</td>\n",
       "      <td>Andhra Pradesh</td>\n",
       "      <td>1291.0</td>\n",
       "      <td>NaN</td>\n",
       "      <td>1101.0</td>\n",
       "      <td>4153.0</td>\n",
       "    </tr>\n",
       "    <tr>\n",
       "      <th>2416</th>\n",
       "      <td>2015</td>\n",
       "      <td>Andhra Pradesh</td>\n",
       "      <td>1389.0</td>\n",
       "      <td>NaN</td>\n",
       "      <td>1293.0</td>\n",
       "      <td>4158.0</td>\n",
       "    </tr>\n",
       "    <tr>\n",
       "      <th>2417</th>\n",
       "      <td>2016</td>\n",
       "      <td>Andhra Pradesh</td>\n",
       "      <td>1339.0</td>\n",
       "      <td>NaN</td>\n",
       "      <td>1357.5</td>\n",
       "      <td>5263.0</td>\n",
       "    </tr>\n",
       "  </tbody>\n",
       "</table>\n",
       "</div>"
      ],
      "text/plain": [
       "      Year      State Name  PADDY HARVEST PRICE (Rs per Quintal)  \\\n",
       "2402  2001  Andhra Pradesh                                 603.0   \n",
       "2403  2002  Andhra Pradesh                                 635.0   \n",
       "2404  2003  Andhra Pradesh                                 630.0   \n",
       "2405  2004  Andhra Pradesh                                 586.0   \n",
       "2406  2005  Andhra Pradesh                                 624.0   \n",
       "2407  2006  Andhra Pradesh                                 707.0   \n",
       "2408  2007  Andhra Pradesh                                 698.0   \n",
       "2409  2008  Andhra Pradesh                                 874.0   \n",
       "2410  2009  Andhra Pradesh                                1060.0   \n",
       "2411  2010  Andhra Pradesh                                 992.0   \n",
       "2412  2011  Andhra Pradesh                                 945.0   \n",
       "2413  2012  Andhra Pradesh                                1352.0   \n",
       "2414  2013  Andhra Pradesh                                1300.0   \n",
       "2415  2014  Andhra Pradesh                                1291.0   \n",
       "2416  2015  Andhra Pradesh                                1389.0   \n",
       "2417  2016  Andhra Pradesh                                1339.0   \n",
       "\n",
       "      WHEAT HARVEST PRICE (Rs per Quintal)  \\\n",
       "2402                                   NaN   \n",
       "2403                                   NaN   \n",
       "2404                                   NaN   \n",
       "2405                                   NaN   \n",
       "2406                                   NaN   \n",
       "2407                                   NaN   \n",
       "2408                                   NaN   \n",
       "2409                                   NaN   \n",
       "2410                                   NaN   \n",
       "2411                                   NaN   \n",
       "2412                                   NaN   \n",
       "2413                                   NaN   \n",
       "2414                                   NaN   \n",
       "2415                                   NaN   \n",
       "2416                                   NaN   \n",
       "2417                                   NaN   \n",
       "\n",
       "      MAIZE HARVEST PRICE (Rs per Quintal)  \\\n",
       "2402                                 499.0   \n",
       "2403                                 513.0   \n",
       "2404                                 506.0   \n",
       "2405                                 495.0   \n",
       "2406                                 500.0   \n",
       "2407                                 598.0   \n",
       "2408                                 638.0   \n",
       "2409                                 817.0   \n",
       "2410                                 879.0   \n",
       "2411                                 950.0   \n",
       "2412                                1062.0   \n",
       "2413                                1327.0   \n",
       "2414                                1101.0   \n",
       "2415                                1101.0   \n",
       "2416                                1293.0   \n",
       "2417                                1357.5   \n",
       "\n",
       "      GROUNDNUT HARVEST PRICE (Rs per Quintal)  \n",
       "2402                                    1343.0  \n",
       "2403                                    1683.0  \n",
       "2404                                    1467.0  \n",
       "2405                                    1580.0  \n",
       "2406                                    1411.0  \n",
       "2407                                    2023.0  \n",
       "2408                                    2314.0  \n",
       "2409                                    2311.0  \n",
       "2410                                    2655.0  \n",
       "2411                                    2670.0  \n",
       "2412                                    3542.0  \n",
       "2413                                    4213.0  \n",
       "2414                                    3778.0  \n",
       "2415                                    4153.0  \n",
       "2416                                    4158.0  \n",
       "2417                                    5263.0  "
      ]
     },
     "execution_count": 21,
     "metadata": {},
     "output_type": "execute_result"
    }
   ],
   "source": [
    "cleaned_ap_df[cleaned_ap_df[\"WHEAT HARVEST PRICE (Rs per Quintal)\"].isna()]"
   ]
  },
  {
   "cell_type": "code",
   "execution_count": 22,
   "metadata": {
    "id": "fyfIIhHYhD5-"
   },
   "outputs": [],
   "source": [
    "cleaned_ap_df['WHEAT HARVEST PRICE (Rs per Quintal)'].fillna(cleaned_ap_df['WHEAT HARVEST PRICE (Rs per Quintal)'].mean(), inplace=True)"
   ]
  },
  {
   "cell_type": "code",
   "execution_count": 23,
   "metadata": {
    "colab": {
     "base_uri": "https://localhost:8080/",
     "height": 272
    },
    "id": "JEeQbKWIr9lO",
    "outputId": "82276561-f6dc-47df-892a-994bed6092e1"
   },
   "outputs": [
    {
     "data": {
      "text/plain": [
       "Year                                        0\n",
       "State Name                                  0\n",
       "PADDY HARVEST PRICE (Rs per Quintal)        0\n",
       "WHEAT HARVEST PRICE (Rs per Quintal)        0\n",
       "MAIZE HARVEST PRICE (Rs per Quintal)        0\n",
       "GROUNDNUT HARVEST PRICE (Rs per Quintal)    0\n",
       "dtype: int64"
      ]
     },
     "execution_count": 23,
     "metadata": {},
     "output_type": "execute_result"
    }
   ],
   "source": [
    "cleaned_ap_df.isna().sum()"
   ]
  },
  {
   "cell_type": "code",
   "execution_count": 24,
   "metadata": {
    "colab": {
     "base_uri": "https://localhost:8080/"
    },
    "id": "yMVojH0uKva7",
    "outputId": "91300154-974f-47cc-885c-d09470c37f0f"
   },
   "outputs": [
    {
     "data": {
      "text/plain": [
       "(561, 6)"
      ]
     },
     "execution_count": 24,
     "metadata": {},
     "output_type": "execute_result"
    }
   ],
   "source": [
    "cleaned_ap_df.shape"
   ]
  },
  {
   "cell_type": "code",
   "execution_count": 25,
   "metadata": {
    "id": "jIaDGqAwhUW4"
   },
   "outputs": [],
   "source": [
    "cleaned_ap_df = cleaned_ap_df.groupby([\"Year\", \"State Name\"]).mean().reset_index()"
   ]
  },
  {
   "cell_type": "code",
   "execution_count": 26,
   "metadata": {
    "colab": {
     "base_uri": "https://localhost:8080/"
    },
    "id": "Fyvc-4pKhUj4",
    "outputId": "2dca7992-6507-49f3-cde3-a409a422cd47"
   },
   "outputs": [
    {
     "data": {
      "text/plain": [
       "(51, 6)"
      ]
     },
     "execution_count": 26,
     "metadata": {},
     "output_type": "execute_result"
    }
   ],
   "source": [
    "cleaned_ap_df.shape"
   ]
  },
  {
   "cell_type": "code",
   "execution_count": 27,
   "metadata": {
    "colab": {
     "base_uri": "https://localhost:8080/",
     "height": 327
    },
    "id": "KVkEcJqazG8G",
    "outputId": "03018093-8a0c-47ec-e15c-85b0e724a466"
   },
   "outputs": [
    {
     "data": {
      "text/html": [
       "<div>\n",
       "<style scoped>\n",
       "    .dataframe tbody tr th:only-of-type {\n",
       "        vertical-align: middle;\n",
       "    }\n",
       "\n",
       "    .dataframe tbody tr th {\n",
       "        vertical-align: top;\n",
       "    }\n",
       "\n",
       "    .dataframe thead th {\n",
       "        text-align: right;\n",
       "    }\n",
       "</style>\n",
       "<table border=\"1\" class=\"dataframe\">\n",
       "  <thead>\n",
       "    <tr style=\"text-align: right;\">\n",
       "      <th></th>\n",
       "      <th>Year</th>\n",
       "      <th>State Name</th>\n",
       "      <th>PADDY HARVEST PRICE (Rs per Quintal)</th>\n",
       "      <th>WHEAT HARVEST PRICE (Rs per Quintal)</th>\n",
       "      <th>MAIZE HARVEST PRICE (Rs per Quintal)</th>\n",
       "      <th>GROUNDNUT HARVEST PRICE (Rs per Quintal)</th>\n",
       "    </tr>\n",
       "  </thead>\n",
       "  <tbody>\n",
       "    <tr>\n",
       "      <th>0</th>\n",
       "      <td>1966</td>\n",
       "      <td>Andhra Pradesh</td>\n",
       "      <td>51.045455</td>\n",
       "      <td>406.127273</td>\n",
       "      <td>337.409091</td>\n",
       "      <td>119.663636</td>\n",
       "    </tr>\n",
       "    <tr>\n",
       "      <th>1</th>\n",
       "      <td>1967</td>\n",
       "      <td>Andhra Pradesh</td>\n",
       "      <td>61.118182</td>\n",
       "      <td>406.127273</td>\n",
       "      <td>337.409091</td>\n",
       "      <td>92.609091</td>\n",
       "    </tr>\n",
       "    <tr>\n",
       "      <th>2</th>\n",
       "      <td>1968</td>\n",
       "      <td>Andhra Pradesh</td>\n",
       "      <td>59.036364</td>\n",
       "      <td>405.000000</td>\n",
       "      <td>337.409091</td>\n",
       "      <td>100.572727</td>\n",
       "    </tr>\n",
       "    <tr>\n",
       "      <th>3</th>\n",
       "      <td>1969</td>\n",
       "      <td>Andhra Pradesh</td>\n",
       "      <td>57.290909</td>\n",
       "      <td>407.790909</td>\n",
       "      <td>337.409091</td>\n",
       "      <td>121.945455</td>\n",
       "    </tr>\n",
       "    <tr>\n",
       "      <th>4</th>\n",
       "      <td>1970</td>\n",
       "      <td>Andhra Pradesh</td>\n",
       "      <td>59.227273</td>\n",
       "      <td>407.790909</td>\n",
       "      <td>337.409091</td>\n",
       "      <td>132.009091</td>\n",
       "    </tr>\n",
       "  </tbody>\n",
       "</table>\n",
       "</div>"
      ],
      "text/plain": [
       "   Year      State Name  PADDY HARVEST PRICE (Rs per Quintal)  \\\n",
       "0  1966  Andhra Pradesh                             51.045455   \n",
       "1  1967  Andhra Pradesh                             61.118182   \n",
       "2  1968  Andhra Pradesh                             59.036364   \n",
       "3  1969  Andhra Pradesh                             57.290909   \n",
       "4  1970  Andhra Pradesh                             59.227273   \n",
       "\n",
       "   WHEAT HARVEST PRICE (Rs per Quintal)  MAIZE HARVEST PRICE (Rs per Quintal)  \\\n",
       "0                            406.127273                            337.409091   \n",
       "1                            406.127273                            337.409091   \n",
       "2                            405.000000                            337.409091   \n",
       "3                            407.790909                            337.409091   \n",
       "4                            407.790909                            337.409091   \n",
       "\n",
       "   GROUNDNUT HARVEST PRICE (Rs per Quintal)  \n",
       "0                                119.663636  \n",
       "1                                 92.609091  \n",
       "2                                100.572727  \n",
       "3                                121.945455  \n",
       "4                                132.009091  "
      ]
     },
     "execution_count": 27,
     "metadata": {},
     "output_type": "execute_result"
    }
   ],
   "source": [
    "cleaned_ap_df.head()"
   ]
  },
  {
   "cell_type": "code",
   "execution_count": 28,
   "metadata": {
    "id": "wmU6W2BnC4ZK"
   },
   "outputs": [],
   "source": [
    "label_encoder = LabelEncoder()\n",
    "scaler = StandardScaler()"
   ]
  },
  {
   "cell_type": "code",
   "execution_count": 29,
   "metadata": {
    "colab": {
     "base_uri": "https://localhost:8080/",
     "height": 1000
    },
    "id": "OM5eu-zDjwDw",
    "outputId": "8a24d4e0-70db-41d7-ec42-b5ddfd450429",
    "scrolled": true
   },
   "outputs": [
    {
     "data": {
      "text/html": [
       "<div>\n",
       "<style scoped>\n",
       "    .dataframe tbody tr th:only-of-type {\n",
       "        vertical-align: middle;\n",
       "    }\n",
       "\n",
       "    .dataframe tbody tr th {\n",
       "        vertical-align: top;\n",
       "    }\n",
       "\n",
       "    .dataframe thead th {\n",
       "        text-align: right;\n",
       "    }\n",
       "</style>\n",
       "<table border=\"1\" class=\"dataframe\">\n",
       "  <thead>\n",
       "    <tr style=\"text-align: right;\">\n",
       "      <th></th>\n",
       "      <th>State Name</th>\n",
       "      <th>PADDY HARVEST PRICE (Rs per Quintal)</th>\n",
       "      <th>WHEAT HARVEST PRICE (Rs per Quintal)</th>\n",
       "      <th>MAIZE HARVEST PRICE (Rs per Quintal)</th>\n",
       "      <th>GROUNDNUT HARVEST PRICE (Rs per Quintal)</th>\n",
       "    </tr>\n",
       "    <tr>\n",
       "      <th>Year</th>\n",
       "      <th></th>\n",
       "      <th></th>\n",
       "      <th></th>\n",
       "      <th></th>\n",
       "      <th></th>\n",
       "    </tr>\n",
       "  </thead>\n",
       "  <tbody>\n",
       "    <tr>\n",
       "      <th>1966</th>\n",
       "      <td>Andhra Pradesh</td>\n",
       "      <td>51.045455</td>\n",
       "      <td>406.127273</td>\n",
       "      <td>337.409091</td>\n",
       "      <td>119.663636</td>\n",
       "    </tr>\n",
       "    <tr>\n",
       "      <th>1967</th>\n",
       "      <td>Andhra Pradesh</td>\n",
       "      <td>61.118182</td>\n",
       "      <td>406.127273</td>\n",
       "      <td>337.409091</td>\n",
       "      <td>92.609091</td>\n",
       "    </tr>\n",
       "    <tr>\n",
       "      <th>1968</th>\n",
       "      <td>Andhra Pradesh</td>\n",
       "      <td>59.036364</td>\n",
       "      <td>405.000000</td>\n",
       "      <td>337.409091</td>\n",
       "      <td>100.572727</td>\n",
       "    </tr>\n",
       "    <tr>\n",
       "      <th>1969</th>\n",
       "      <td>Andhra Pradesh</td>\n",
       "      <td>57.290909</td>\n",
       "      <td>407.790909</td>\n",
       "      <td>337.409091</td>\n",
       "      <td>121.945455</td>\n",
       "    </tr>\n",
       "    <tr>\n",
       "      <th>1970</th>\n",
       "      <td>Andhra Pradesh</td>\n",
       "      <td>59.227273</td>\n",
       "      <td>407.790909</td>\n",
       "      <td>337.409091</td>\n",
       "      <td>132.009091</td>\n",
       "    </tr>\n",
       "    <tr>\n",
       "      <th>1971</th>\n",
       "      <td>Andhra Pradesh</td>\n",
       "      <td>65.672727</td>\n",
       "      <td>407.790909</td>\n",
       "      <td>337.972727</td>\n",
       "      <td>122.781818</td>\n",
       "    </tr>\n",
       "    <tr>\n",
       "      <th>1972</th>\n",
       "      <td>Andhra Pradesh</td>\n",
       "      <td>78.636364</td>\n",
       "      <td>407.790909</td>\n",
       "      <td>339.936364</td>\n",
       "      <td>178.072727</td>\n",
       "    </tr>\n",
       "    <tr>\n",
       "      <th>1973</th>\n",
       "      <td>Andhra Pradesh</td>\n",
       "      <td>91.800000</td>\n",
       "      <td>407.790909</td>\n",
       "      <td>340.818182</td>\n",
       "      <td>217.045455</td>\n",
       "    </tr>\n",
       "    <tr>\n",
       "      <th>1974</th>\n",
       "      <td>Andhra Pradesh</td>\n",
       "      <td>118.945455</td>\n",
       "      <td>408.836364</td>\n",
       "      <td>369.109091</td>\n",
       "      <td>225.172727</td>\n",
       "    </tr>\n",
       "    <tr>\n",
       "      <th>1975</th>\n",
       "      <td>Andhra Pradesh</td>\n",
       "      <td>87.372727</td>\n",
       "      <td>435.818182</td>\n",
       "      <td>393.000000</td>\n",
       "      <td>146.636364</td>\n",
       "    </tr>\n",
       "    <tr>\n",
       "      <th>1976</th>\n",
       "      <td>Andhra Pradesh</td>\n",
       "      <td>97.136364</td>\n",
       "      <td>435.818182</td>\n",
       "      <td>393.000000</td>\n",
       "      <td>224.409091</td>\n",
       "    </tr>\n",
       "    <tr>\n",
       "      <th>1977</th>\n",
       "      <td>Andhra Pradesh</td>\n",
       "      <td>91.754545</td>\n",
       "      <td>435.818182</td>\n",
       "      <td>393.000000</td>\n",
       "      <td>318.072727</td>\n",
       "    </tr>\n",
       "    <tr>\n",
       "      <th>1978</th>\n",
       "      <td>Andhra Pradesh</td>\n",
       "      <td>85.654545</td>\n",
       "      <td>435.818182</td>\n",
       "      <td>393.000000</td>\n",
       "      <td>310.372727</td>\n",
       "    </tr>\n",
       "    <tr>\n",
       "      <th>1979</th>\n",
       "      <td>Andhra Pradesh</td>\n",
       "      <td>99.254545</td>\n",
       "      <td>435.818182</td>\n",
       "      <td>393.000000</td>\n",
       "      <td>374.609091</td>\n",
       "    </tr>\n",
       "    <tr>\n",
       "      <th>1980</th>\n",
       "      <td>Andhra Pradesh</td>\n",
       "      <td>117.436364</td>\n",
       "      <td>435.818182</td>\n",
       "      <td>393.000000</td>\n",
       "      <td>413.772727</td>\n",
       "    </tr>\n",
       "    <tr>\n",
       "      <th>1981</th>\n",
       "      <td>Andhra Pradesh</td>\n",
       "      <td>127.527273</td>\n",
       "      <td>435.818182</td>\n",
       "      <td>393.000000</td>\n",
       "      <td>422.372727</td>\n",
       "    </tr>\n",
       "    <tr>\n",
       "      <th>1982</th>\n",
       "      <td>Andhra Pradesh</td>\n",
       "      <td>140.072727</td>\n",
       "      <td>435.818182</td>\n",
       "      <td>393.000000</td>\n",
       "      <td>448.518182</td>\n",
       "    </tr>\n",
       "    <tr>\n",
       "      <th>1983</th>\n",
       "      <td>Andhra Pradesh</td>\n",
       "      <td>150.000000</td>\n",
       "      <td>435.818182</td>\n",
       "      <td>393.000000</td>\n",
       "      <td>475.681818</td>\n",
       "    </tr>\n",
       "    <tr>\n",
       "      <th>1984</th>\n",
       "      <td>Andhra Pradesh</td>\n",
       "      <td>139.300000</td>\n",
       "      <td>435.818182</td>\n",
       "      <td>393.000000</td>\n",
       "      <td>489.854545</td>\n",
       "    </tr>\n",
       "    <tr>\n",
       "      <th>1985</th>\n",
       "      <td>Andhra Pradesh</td>\n",
       "      <td>153.545455</td>\n",
       "      <td>435.818182</td>\n",
       "      <td>393.000000</td>\n",
       "      <td>493.445455</td>\n",
       "    </tr>\n",
       "    <tr>\n",
       "      <th>1986</th>\n",
       "      <td>Andhra Pradesh</td>\n",
       "      <td>165.745455</td>\n",
       "      <td>435.818182</td>\n",
       "      <td>393.000000</td>\n",
       "      <td>584.845455</td>\n",
       "    </tr>\n",
       "    <tr>\n",
       "      <th>1987</th>\n",
       "      <td>Andhra Pradesh</td>\n",
       "      <td>180.981818</td>\n",
       "      <td>435.818182</td>\n",
       "      <td>393.000000</td>\n",
       "      <td>649.572727</td>\n",
       "    </tr>\n",
       "    <tr>\n",
       "      <th>1988</th>\n",
       "      <td>Andhra Pradesh</td>\n",
       "      <td>202.254545</td>\n",
       "      <td>435.818182</td>\n",
       "      <td>393.000000</td>\n",
       "      <td>576.672727</td>\n",
       "    </tr>\n",
       "    <tr>\n",
       "      <th>1989</th>\n",
       "      <td>Andhra Pradesh</td>\n",
       "      <td>199.418182</td>\n",
       "      <td>435.818182</td>\n",
       "      <td>393.000000</td>\n",
       "      <td>676.536364</td>\n",
       "    </tr>\n",
       "    <tr>\n",
       "      <th>1990</th>\n",
       "      <td>Andhra Pradesh</td>\n",
       "      <td>217.909091</td>\n",
       "      <td>435.818182</td>\n",
       "      <td>393.000000</td>\n",
       "      <td>851.000000</td>\n",
       "    </tr>\n",
       "    <tr>\n",
       "      <th>1991</th>\n",
       "      <td>Andhra Pradesh</td>\n",
       "      <td>289.636364</td>\n",
       "      <td>435.818182</td>\n",
       "      <td>393.000000</td>\n",
       "      <td>910.181818</td>\n",
       "    </tr>\n",
       "    <tr>\n",
       "      <th>1992</th>\n",
       "      <td>Andhra Pradesh</td>\n",
       "      <td>301.272727</td>\n",
       "      <td>435.818182</td>\n",
       "      <td>393.000000</td>\n",
       "      <td>817.454545</td>\n",
       "    </tr>\n",
       "    <tr>\n",
       "      <th>1993</th>\n",
       "      <td>Andhra Pradesh</td>\n",
       "      <td>340.181818</td>\n",
       "      <td>435.818182</td>\n",
       "      <td>393.000000</td>\n",
       "      <td>924.363636</td>\n",
       "    </tr>\n",
       "    <tr>\n",
       "      <th>1994</th>\n",
       "      <td>Andhra Pradesh</td>\n",
       "      <td>390.181818</td>\n",
       "      <td>435.818182</td>\n",
       "      <td>393.000000</td>\n",
       "      <td>1028.909091</td>\n",
       "    </tr>\n",
       "    <tr>\n",
       "      <th>1995</th>\n",
       "      <td>Andhra Pradesh</td>\n",
       "      <td>416.000000</td>\n",
       "      <td>435.818182</td>\n",
       "      <td>393.000000</td>\n",
       "      <td>1093.818182</td>\n",
       "    </tr>\n",
       "    <tr>\n",
       "      <th>1996</th>\n",
       "      <td>Andhra Pradesh</td>\n",
       "      <td>418.363636</td>\n",
       "      <td>435.818182</td>\n",
       "      <td>393.000000</td>\n",
       "      <td>1148.363636</td>\n",
       "    </tr>\n",
       "    <tr>\n",
       "      <th>1997</th>\n",
       "      <td>Andhra Pradesh</td>\n",
       "      <td>448.090909</td>\n",
       "      <td>435.818182</td>\n",
       "      <td>404.636364</td>\n",
       "      <td>1175.090909</td>\n",
       "    </tr>\n",
       "    <tr>\n",
       "      <th>1998</th>\n",
       "      <td>Andhra Pradesh</td>\n",
       "      <td>525.636364</td>\n",
       "      <td>435.818182</td>\n",
       "      <td>439.727273</td>\n",
       "      <td>1480.636364</td>\n",
       "    </tr>\n",
       "    <tr>\n",
       "      <th>1999</th>\n",
       "      <td>Andhra Pradesh</td>\n",
       "      <td>562.636364</td>\n",
       "      <td>461.454545</td>\n",
       "      <td>441.909091</td>\n",
       "      <td>1251.545455</td>\n",
       "    </tr>\n",
       "    <tr>\n",
       "      <th>2000</th>\n",
       "      <td>Andhra Pradesh</td>\n",
       "      <td>498.090909</td>\n",
       "      <td>441.181818</td>\n",
       "      <td>379.636364</td>\n",
       "      <td>1191.636364</td>\n",
       "    </tr>\n",
       "    <tr>\n",
       "      <th>2001</th>\n",
       "      <td>Andhra Pradesh</td>\n",
       "      <td>565.090909</td>\n",
       "      <td>436.040951</td>\n",
       "      <td>490.909091</td>\n",
       "      <td>1277.090909</td>\n",
       "    </tr>\n",
       "    <tr>\n",
       "      <th>2002</th>\n",
       "      <td>Andhra Pradesh</td>\n",
       "      <td>628.727273</td>\n",
       "      <td>436.040951</td>\n",
       "      <td>513.000000</td>\n",
       "      <td>1639.545455</td>\n",
       "    </tr>\n",
       "    <tr>\n",
       "      <th>2003</th>\n",
       "      <td>Andhra Pradesh</td>\n",
       "      <td>604.636364</td>\n",
       "      <td>436.040951</td>\n",
       "      <td>509.636364</td>\n",
       "      <td>1537.454545</td>\n",
       "    </tr>\n",
       "    <tr>\n",
       "      <th>2004</th>\n",
       "      <td>Andhra Pradesh</td>\n",
       "      <td>609.181818</td>\n",
       "      <td>436.040951</td>\n",
       "      <td>502.000000</td>\n",
       "      <td>1542.545455</td>\n",
       "    </tr>\n",
       "    <tr>\n",
       "      <th>2005</th>\n",
       "      <td>Andhra Pradesh</td>\n",
       "      <td>622.181818</td>\n",
       "      <td>436.040951</td>\n",
       "      <td>513.000000</td>\n",
       "      <td>1492.636364</td>\n",
       "    </tr>\n",
       "    <tr>\n",
       "      <th>2006</th>\n",
       "      <td>Andhra Pradesh</td>\n",
       "      <td>657.454545</td>\n",
       "      <td>436.040951</td>\n",
       "      <td>602.454545</td>\n",
       "      <td>1873.454545</td>\n",
       "    </tr>\n",
       "    <tr>\n",
       "      <th>2007</th>\n",
       "      <td>Andhra Pradesh</td>\n",
       "      <td>756.090909</td>\n",
       "      <td>436.040951</td>\n",
       "      <td>659.636364</td>\n",
       "      <td>2113.818182</td>\n",
       "    </tr>\n",
       "    <tr>\n",
       "      <th>2008</th>\n",
       "      <td>Andhra Pradesh</td>\n",
       "      <td>967.272727</td>\n",
       "      <td>436.040951</td>\n",
       "      <td>810.727273</td>\n",
       "      <td>2269.454545</td>\n",
       "    </tr>\n",
       "    <tr>\n",
       "      <th>2009</th>\n",
       "      <td>Andhra Pradesh</td>\n",
       "      <td>1150.818182</td>\n",
       "      <td>436.040951</td>\n",
       "      <td>906.545455</td>\n",
       "      <td>2649.090909</td>\n",
       "    </tr>\n",
       "    <tr>\n",
       "      <th>2010</th>\n",
       "      <td>Andhra Pradesh</td>\n",
       "      <td>997.181818</td>\n",
       "      <td>436.040951</td>\n",
       "      <td>1068.727273</td>\n",
       "      <td>2978.272727</td>\n",
       "    </tr>\n",
       "    <tr>\n",
       "      <th>2011</th>\n",
       "      <td>Andhra Pradesh</td>\n",
       "      <td>1065.727273</td>\n",
       "      <td>436.040951</td>\n",
       "      <td>1075.090909</td>\n",
       "      <td>3618.909091</td>\n",
       "    </tr>\n",
       "    <tr>\n",
       "      <th>2012</th>\n",
       "      <td>Andhra Pradesh</td>\n",
       "      <td>1497.818182</td>\n",
       "      <td>436.040951</td>\n",
       "      <td>1292.454545</td>\n",
       "      <td>3843.181818</td>\n",
       "    </tr>\n",
       "    <tr>\n",
       "      <th>2013</th>\n",
       "      <td>Andhra Pradesh</td>\n",
       "      <td>1443.727273</td>\n",
       "      <td>436.040951</td>\n",
       "      <td>1262.545455</td>\n",
       "      <td>3182.754545</td>\n",
       "    </tr>\n",
       "    <tr>\n",
       "      <th>2014</th>\n",
       "      <td>Andhra Pradesh</td>\n",
       "      <td>1434.000000</td>\n",
       "      <td>436.040951</td>\n",
       "      <td>1209.818182</td>\n",
       "      <td>3849.754545</td>\n",
       "    </tr>\n",
       "    <tr>\n",
       "      <th>2015</th>\n",
       "      <td>Andhra Pradesh</td>\n",
       "      <td>1602.000000</td>\n",
       "      <td>436.040951</td>\n",
       "      <td>1325.636364</td>\n",
       "      <td>4282.663636</td>\n",
       "    </tr>\n",
       "    <tr>\n",
       "      <th>2016</th>\n",
       "      <td>Andhra Pradesh</td>\n",
       "      <td>1642.454545</td>\n",
       "      <td>436.040951</td>\n",
       "      <td>1404.545455</td>\n",
       "      <td>4537.981818</td>\n",
       "    </tr>\n",
       "  </tbody>\n",
       "</table>\n",
       "</div>"
      ],
      "text/plain": [
       "          State Name  PADDY HARVEST PRICE (Rs per Quintal)  \\\n",
       "Year                                                         \n",
       "1966  Andhra Pradesh                             51.045455   \n",
       "1967  Andhra Pradesh                             61.118182   \n",
       "1968  Andhra Pradesh                             59.036364   \n",
       "1969  Andhra Pradesh                             57.290909   \n",
       "1970  Andhra Pradesh                             59.227273   \n",
       "1971  Andhra Pradesh                             65.672727   \n",
       "1972  Andhra Pradesh                             78.636364   \n",
       "1973  Andhra Pradesh                             91.800000   \n",
       "1974  Andhra Pradesh                            118.945455   \n",
       "1975  Andhra Pradesh                             87.372727   \n",
       "1976  Andhra Pradesh                             97.136364   \n",
       "1977  Andhra Pradesh                             91.754545   \n",
       "1978  Andhra Pradesh                             85.654545   \n",
       "1979  Andhra Pradesh                             99.254545   \n",
       "1980  Andhra Pradesh                            117.436364   \n",
       "1981  Andhra Pradesh                            127.527273   \n",
       "1982  Andhra Pradesh                            140.072727   \n",
       "1983  Andhra Pradesh                            150.000000   \n",
       "1984  Andhra Pradesh                            139.300000   \n",
       "1985  Andhra Pradesh                            153.545455   \n",
       "1986  Andhra Pradesh                            165.745455   \n",
       "1987  Andhra Pradesh                            180.981818   \n",
       "1988  Andhra Pradesh                            202.254545   \n",
       "1989  Andhra Pradesh                            199.418182   \n",
       "1990  Andhra Pradesh                            217.909091   \n",
       "1991  Andhra Pradesh                            289.636364   \n",
       "1992  Andhra Pradesh                            301.272727   \n",
       "1993  Andhra Pradesh                            340.181818   \n",
       "1994  Andhra Pradesh                            390.181818   \n",
       "1995  Andhra Pradesh                            416.000000   \n",
       "1996  Andhra Pradesh                            418.363636   \n",
       "1997  Andhra Pradesh                            448.090909   \n",
       "1998  Andhra Pradesh                            525.636364   \n",
       "1999  Andhra Pradesh                            562.636364   \n",
       "2000  Andhra Pradesh                            498.090909   \n",
       "2001  Andhra Pradesh                            565.090909   \n",
       "2002  Andhra Pradesh                            628.727273   \n",
       "2003  Andhra Pradesh                            604.636364   \n",
       "2004  Andhra Pradesh                            609.181818   \n",
       "2005  Andhra Pradesh                            622.181818   \n",
       "2006  Andhra Pradesh                            657.454545   \n",
       "2007  Andhra Pradesh                            756.090909   \n",
       "2008  Andhra Pradesh                            967.272727   \n",
       "2009  Andhra Pradesh                           1150.818182   \n",
       "2010  Andhra Pradesh                            997.181818   \n",
       "2011  Andhra Pradesh                           1065.727273   \n",
       "2012  Andhra Pradesh                           1497.818182   \n",
       "2013  Andhra Pradesh                           1443.727273   \n",
       "2014  Andhra Pradesh                           1434.000000   \n",
       "2015  Andhra Pradesh                           1602.000000   \n",
       "2016  Andhra Pradesh                           1642.454545   \n",
       "\n",
       "      WHEAT HARVEST PRICE (Rs per Quintal)  \\\n",
       "Year                                         \n",
       "1966                            406.127273   \n",
       "1967                            406.127273   \n",
       "1968                            405.000000   \n",
       "1969                            407.790909   \n",
       "1970                            407.790909   \n",
       "1971                            407.790909   \n",
       "1972                            407.790909   \n",
       "1973                            407.790909   \n",
       "1974                            408.836364   \n",
       "1975                            435.818182   \n",
       "1976                            435.818182   \n",
       "1977                            435.818182   \n",
       "1978                            435.818182   \n",
       "1979                            435.818182   \n",
       "1980                            435.818182   \n",
       "1981                            435.818182   \n",
       "1982                            435.818182   \n",
       "1983                            435.818182   \n",
       "1984                            435.818182   \n",
       "1985                            435.818182   \n",
       "1986                            435.818182   \n",
       "1987                            435.818182   \n",
       "1988                            435.818182   \n",
       "1989                            435.818182   \n",
       "1990                            435.818182   \n",
       "1991                            435.818182   \n",
       "1992                            435.818182   \n",
       "1993                            435.818182   \n",
       "1994                            435.818182   \n",
       "1995                            435.818182   \n",
       "1996                            435.818182   \n",
       "1997                            435.818182   \n",
       "1998                            435.818182   \n",
       "1999                            461.454545   \n",
       "2000                            441.181818   \n",
       "2001                            436.040951   \n",
       "2002                            436.040951   \n",
       "2003                            436.040951   \n",
       "2004                            436.040951   \n",
       "2005                            436.040951   \n",
       "2006                            436.040951   \n",
       "2007                            436.040951   \n",
       "2008                            436.040951   \n",
       "2009                            436.040951   \n",
       "2010                            436.040951   \n",
       "2011                            436.040951   \n",
       "2012                            436.040951   \n",
       "2013                            436.040951   \n",
       "2014                            436.040951   \n",
       "2015                            436.040951   \n",
       "2016                            436.040951   \n",
       "\n",
       "      MAIZE HARVEST PRICE (Rs per Quintal)  \\\n",
       "Year                                         \n",
       "1966                            337.409091   \n",
       "1967                            337.409091   \n",
       "1968                            337.409091   \n",
       "1969                            337.409091   \n",
       "1970                            337.409091   \n",
       "1971                            337.972727   \n",
       "1972                            339.936364   \n",
       "1973                            340.818182   \n",
       "1974                            369.109091   \n",
       "1975                            393.000000   \n",
       "1976                            393.000000   \n",
       "1977                            393.000000   \n",
       "1978                            393.000000   \n",
       "1979                            393.000000   \n",
       "1980                            393.000000   \n",
       "1981                            393.000000   \n",
       "1982                            393.000000   \n",
       "1983                            393.000000   \n",
       "1984                            393.000000   \n",
       "1985                            393.000000   \n",
       "1986                            393.000000   \n",
       "1987                            393.000000   \n",
       "1988                            393.000000   \n",
       "1989                            393.000000   \n",
       "1990                            393.000000   \n",
       "1991                            393.000000   \n",
       "1992                            393.000000   \n",
       "1993                            393.000000   \n",
       "1994                            393.000000   \n",
       "1995                            393.000000   \n",
       "1996                            393.000000   \n",
       "1997                            404.636364   \n",
       "1998                            439.727273   \n",
       "1999                            441.909091   \n",
       "2000                            379.636364   \n",
       "2001                            490.909091   \n",
       "2002                            513.000000   \n",
       "2003                            509.636364   \n",
       "2004                            502.000000   \n",
       "2005                            513.000000   \n",
       "2006                            602.454545   \n",
       "2007                            659.636364   \n",
       "2008                            810.727273   \n",
       "2009                            906.545455   \n",
       "2010                           1068.727273   \n",
       "2011                           1075.090909   \n",
       "2012                           1292.454545   \n",
       "2013                           1262.545455   \n",
       "2014                           1209.818182   \n",
       "2015                           1325.636364   \n",
       "2016                           1404.545455   \n",
       "\n",
       "      GROUNDNUT HARVEST PRICE (Rs per Quintal)  \n",
       "Year                                            \n",
       "1966                                119.663636  \n",
       "1967                                 92.609091  \n",
       "1968                                100.572727  \n",
       "1969                                121.945455  \n",
       "1970                                132.009091  \n",
       "1971                                122.781818  \n",
       "1972                                178.072727  \n",
       "1973                                217.045455  \n",
       "1974                                225.172727  \n",
       "1975                                146.636364  \n",
       "1976                                224.409091  \n",
       "1977                                318.072727  \n",
       "1978                                310.372727  \n",
       "1979                                374.609091  \n",
       "1980                                413.772727  \n",
       "1981                                422.372727  \n",
       "1982                                448.518182  \n",
       "1983                                475.681818  \n",
       "1984                                489.854545  \n",
       "1985                                493.445455  \n",
       "1986                                584.845455  \n",
       "1987                                649.572727  \n",
       "1988                                576.672727  \n",
       "1989                                676.536364  \n",
       "1990                                851.000000  \n",
       "1991                                910.181818  \n",
       "1992                                817.454545  \n",
       "1993                                924.363636  \n",
       "1994                               1028.909091  \n",
       "1995                               1093.818182  \n",
       "1996                               1148.363636  \n",
       "1997                               1175.090909  \n",
       "1998                               1480.636364  \n",
       "1999                               1251.545455  \n",
       "2000                               1191.636364  \n",
       "2001                               1277.090909  \n",
       "2002                               1639.545455  \n",
       "2003                               1537.454545  \n",
       "2004                               1542.545455  \n",
       "2005                               1492.636364  \n",
       "2006                               1873.454545  \n",
       "2007                               2113.818182  \n",
       "2008                               2269.454545  \n",
       "2009                               2649.090909  \n",
       "2010                               2978.272727  \n",
       "2011                               3618.909091  \n",
       "2012                               3843.181818  \n",
       "2013                               3182.754545  \n",
       "2014                               3849.754545  \n",
       "2015                               4282.663636  \n",
       "2016                               4537.981818  "
      ]
     },
     "execution_count": 29,
     "metadata": {},
     "output_type": "execute_result"
    }
   ],
   "source": [
    "cleaned_ap_df.set_index(\"Year\")"
   ]
  },
  {
   "cell_type": "code",
   "execution_count": 30,
   "metadata": {
    "id": "AtMNQu78ilm5"
   },
   "outputs": [],
   "source": [
    "new_cleaned_ap_df = cleaned_ap_df.copy()"
   ]
  },
  {
   "cell_type": "code",
   "execution_count": 31,
   "metadata": {
    "id": "Fz4_QCUAC7XE"
   },
   "outputs": [],
   "source": [
    "# numeric_cols = new_cleaned_ap_df.select_dtypes(include=['int', 'float']).columns\n",
    "\n",
    "# # Apply scaling only to numeric columns\n",
    "# new_cleaned_ap_df[numeric_cols] = scaler.fit_transform(new_cleaned_ap_df[numeric_cols])"
   ]
  },
  {
   "cell_type": "code",
   "execution_count": 32,
   "metadata": {
    "id": "AKz-D9lnP8uA"
   },
   "outputs": [],
   "source": [
    "## for each district we have 17 years of data\n",
    "ap_paddy_df = new_cleaned_ap_df[\"PADDY HARVEST PRICE (Rs per Quintal)\"]\n",
    "\n",
    "# ap_wheat_df = new_cleaned_ap_df[[\"Year\", \"WHEAT HARVEST PRICE (Rs per Quintal)\"]]\n",
    "\n",
    "# ap_maize_df = new_cleaned_ap_df[[\"Year\", \"MAIZE HARVEST PRICE (Rs per Quintal)\"]]\n",
    "\n",
    "# ap_groundnut_df = new_cleaned_ap_df[[\"Year\", \"GROUNDNUT HARVEST PRICE (Rs per Quintal)\"]]"
   ]
  },
  {
   "cell_type": "code",
   "execution_count": null,
   "metadata": {
    "id": "IDsODpmWqt9B"
   },
   "outputs": [],
   "source": []
  },
  {
   "cell_type": "code",
   "execution_count": 33,
   "metadata": {
    "id": "zzr_j-t_kslt"
   },
   "outputs": [],
   "source": [
    "# ap_paddy_df = ap_paddy_df.set_index(\"Year\")"
   ]
  },
  {
   "cell_type": "code",
   "execution_count": 34,
   "metadata": {
    "colab": {
     "base_uri": "https://localhost:8080/",
     "height": 241
    },
    "id": "pEaIJKSGl-g_",
    "outputId": "8dccc925-9a8e-4cf4-ce7d-80889765141a"
   },
   "outputs": [
    {
     "data": {
      "text/plain": [
       "0    51.045455\n",
       "1    61.118182\n",
       "2    59.036364\n",
       "3    57.290909\n",
       "4    59.227273\n",
       "Name: PADDY HARVEST PRICE (Rs per Quintal), dtype: float64"
      ]
     },
     "execution_count": 34,
     "metadata": {},
     "output_type": "execute_result"
    }
   ],
   "source": [
    "ap_paddy_df.head()"
   ]
  },
  {
   "cell_type": "code",
   "execution_count": 35,
   "metadata": {
    "colab": {
     "base_uri": "https://localhost:8080/",
     "height": 339
    },
    "id": "X5QEuBcil5eg",
    "outputId": "7ccc5d44-a196-41e7-ee62-209ae9e94eeb"
   },
   "outputs": [],
   "source": [
    "scaled_ap_paddy_df = scaler.fit_transform(ap_paddy_df.values.reshape(-1, 1))"
   ]
  },
  {
   "cell_type": "code",
   "execution_count": 38,
   "metadata": {
    "id": "Zt6vkQE8Izsz"
   },
   "outputs": [
    {
     "data": {
      "text/plain": [
       "(51, 1)"
      ]
     },
     "execution_count": 38,
     "metadata": {},
     "output_type": "execute_result"
    }
   ],
   "source": [
    "scaled_ap_paddy_df.shape"
   ]
  },
  {
   "cell_type": "code",
   "execution_count": 41,
   "metadata": {
    "id": "QB1NHgklJo1v"
   },
   "outputs": [
    {
     "data": {
      "text/plain": [
       "[<matplotlib.lines.Line2D at 0x26de5d12650>]"
      ]
     },
     "execution_count": 41,
     "metadata": {},
     "output_type": "execute_result"
    },
    {
     "data": {
      "image/png": "[encoded data removed]",
      "text/plain": [
       "<Figure size 640x480 with 1 Axes>"
      ]
     },
     "metadata": {},
     "output_type": "display_data"
    }
   ],
   "source": [
    "plt.plot(scaled_ap_paddy_df)"
   ]
  },
  {
   "cell_type": "code",
   "execution_count": null,
   "metadata": {
    "colab": {
     "base_uri": "https://localhost:8080/"
    },
    "id": "lectR0QUbLcu",
    "outputId": "8886e18f-4ebd-4c47-edd4-b299331c329c"
   },
   "outputs": [
    {
     "data": {
      "text/plain": [
       "(51,)"
      ]
     },
     "execution_count": 38,
     "metadata": {},
     "output_type": "execute_result"
    }
   ],
   "source": [
    "# (np.array(scaled_ap_paddy_df)).shape"
   ]
  },
  {
   "cell_type": "code",
   "execution_count": 52,
   "metadata": {},
   "outputs": [],
   "source": [
    "from statsmodels.tsa.holtwinters import ExponentialSmoothing"
   ]
  },
  {
   "cell_type": "code",
   "execution_count": 75,
   "metadata": {
    "colab": {
     "base_uri": "https://localhost:8080/",
     "height": 332
    },
    "id": "7hjTTfK6okhA",
    "outputId": "8536dc2a-1d49-4773-b057-fd5e32b6e714"
   },
   "outputs": [],
   "source": [
    "# Fit an Exponential Smoothing model\n",
    "model = ExponentialSmoothing(scaled_ap_paddy_df, trend=\"add\", seasonal=None)\n",
    "model_fit = model.fit(\n",
    "    smoothing_level=0.6,   # alpha (controls level smoothing)\n",
    "    smoothing_slope=0.75   # beta (controls trend smoothing)\n",
    ")\n",
    "    # smoothing_seasonal=0.5 # gamma (controls seasonal smoothing)\n",
    "\n"
   ]
  },
  {
   "cell_type": "code",
   "execution_count": 76,
   "metadata": {
    "id": "i20l1iEpokkh"
   },
   "outputs": [
    {
     "name": "stdout",
     "output_type": "stream",
     "text": [
      "Predicted price of paddy for next year : 1716.2968869556457\n"
     ]
    }
   ],
   "source": [
    "# Forecast next year's scaled price\n",
    "future_scaled_price = model_fit.forecast(steps=1)\n",
    "\n",
    "# Reshape for inverse transformation\n",
    "future_scaled_price = np.array(future_scaled_price).reshape(-1, 1)\n",
    "\n",
    "# Inverse transform to get the original price\n",
    "future_original_price = scaler.inverse_transform(future_scaled_price)\n",
    "\n",
    "print(\"Predicted price of paddy for next year :\", future_original_price[0][0])"
   ]
  },
  {
   "cell_type": "markdown",
   "metadata": {},
   "source": [
    "######"
   ]
  },
  {
   "cell_type": "code",
   "execution_count": null,
   "metadata": {},
   "outputs": [],
   "source": []
  },
  {
   "cell_type": "code",
   "execution_count": null,
   "metadata": {},
   "outputs": [],
   "source": []
  },
  {
   "cell_type": "code",
   "execution_count": null,
   "metadata": {
    "id": "WLVf4LkWBNiT"
   },
   "outputs": [],
   "source": []
  },
  {
   "cell_type": "code",
   "execution_count": null,
   "metadata": {
    "id": "ezqaqd-nBNj5"
   },
   "outputs": [],
   "source": []
  },
  {
   "cell_type": "code",
   "execution_count": null,
   "metadata": {
    "id": "eyDJDyYrBNl1"
   },
   "outputs": [],
   "source": []
  },
  {
   "cell_type": "code",
   "execution_count": null,
   "metadata": {
    "id": "jtmGiUd-BNn9"
   },
   "outputs": [],
   "source": []
  },
  {
   "cell_type": "code",
   "execution_count": null,
   "metadata": {
    "id": "joqBaJ1qBNrg"
   },
   "outputs": [],
   "source": []
  },
  {
   "cell_type": "code",
   "execution_count": null,
   "metadata": {
    "id": "DniIcRrBbLoo"
   },
   "outputs": [],
   "source": []
  },
  {
   "cell_type": "code",
   "execution_count": null,
   "metadata": {
    "id": "7NOKN2kcP8z1"
   },
   "outputs": [],
   "source": []
  }
 ],
 "metadata": {
  "colab": {
   "provenance": []
  },
  "kernelspec": {
   "display_name": "Python 3 (ipykernel)",
   "language": "python",
   "name": "python3"
  },
  "language_info": {
   "codemirror_mode": {
    "name": "ipython",
    "version": 3
   },
   "file_extension": ".py",
   "mimetype": "text/x-python",
   "name": "python",
   "nbconvert_exporter": "python",
   "pygments_lexer": "ipython3",
   "version": "3.11.10"
  }
 },
 "nbformat": 4,
 "nbformat_minor": 4
}
